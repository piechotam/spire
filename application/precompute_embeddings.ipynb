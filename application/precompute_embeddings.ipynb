{
 "cells": [
  {
   "cell_type": "code",
   "execution_count": 1,
   "metadata": {},
   "outputs": [],
   "source": [
    "import torch\n",
    "import glob\n",
    "from PIL import Image\n",
    "from tqdm import tqdm\n",
    "import os\n",
    "import sys\n",
    "sys.path.append(os.path.abspath(\"..\"))\n",
    "from clip.clip import load\n",
    "from concept_extraction.concept_extraction import prepare_image_from_datasets, extract_embedding"
   ]
  },
  {
   "cell_type": "code",
   "execution_count": 2,
   "metadata": {},
   "outputs": [],
   "source": [
    "folder_path = \"stl10_sample_500\"\n",
    "ViT_B_16_clip, image_transform = load(\"ViT-B/16\")\n",
    "\n",
    "image_paths = glob.glob(folder_path + \"/*.png\")\n",
    "samples = []"
   ]
  },
  {
   "cell_type": "code",
   "execution_count": 3,
   "metadata": {},
   "outputs": [],
   "source": [
    "for img_path in image_paths:\n",
    "    img = Image.open(img_path).convert(\"RGB\")\n",
    "    samples.append({\"image\": img})"
   ]
  },
  {
   "cell_type": "code",
   "execution_count": 4,
   "metadata": {},
   "outputs": [
    {
     "name": "stderr",
     "output_type": "stream",
     "text": [
      "Computing embeddings:  93%|█████████▎| 466/500 [01:19<00:06,  5.58it/s]"
     ]
    },
    {
     "ename": "",
     "evalue": "",
     "output_type": "error",
     "traceback": [
      "\u001b[1;31mThe Kernel crashed while executing code in the current cell or a previous cell. \n",
      "\u001b[1;31mPlease review the code in the cell(s) to identify a possible cause of the failure. \n",
      "\u001b[1;31mClick <a href='https://aka.ms/vscodeJupyterKernelCrash'>here</a> for more info. \n",
      "\u001b[1;31mView Jupyter <a href='command:jupyter.viewOutput'>log</a> for further details."
     ]
    }
   ],
   "source": [
    "embeddings_list = []\n",
    "for sample in tqdm(samples, desc=\"Computing embeddings\"):\n",
    "    _, image_transformed = prepare_image_from_datasets(sample[\"image\"], image_transform)\n",
    "    embedding = extract_embedding(image_transformed=image_transformed, clip_model=ViT_B_16_clip)\n",
    "    embeddings_list.append(embedding)\n",
    "\n",
    "embeddings = torch.stack(embeddings_list)"
   ]
  },
  {
   "cell_type": "code",
   "execution_count": null,
   "metadata": {},
   "outputs": [],
   "source": [
    "torch.save({\n",
    "    \"embeddings\": embeddings,\n",
    "    \"image_paths\": image_paths,\n",
    "}, \"precomputed_embeddings.pt\")\n",
    "\n",
    "print(f\"Saved {len(samples)} embeddings to precomputed_embeddings.pt\")"
   ]
  }
 ],
 "metadata": {
  "kernelspec": {
   "display_name": "clipenv",
   "language": "python",
   "name": "python3"
  },
  "language_info": {
   "codemirror_mode": {
    "name": "ipython",
    "version": 3
   },
   "file_extension": ".py",
   "mimetype": "text/x-python",
   "name": "python",
   "nbconvert_exporter": "python",
   "pygments_lexer": "ipython3",
   "version": "3.11.13"
  }
 },
 "nbformat": 4,
 "nbformat_minor": 2
}
